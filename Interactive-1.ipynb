{
 "cells": [
  {
   "cell_type": "markdown",
   "metadata": {
    "isInteractiveWindowMessageCell": true
   },
   "source": [
    "Connected to Python 3.11.8"
   ]
  },
  {
   "cell_type": "code",
   "execution_count": 1,
   "metadata": {},
   "outputs": [
    {
     "ename": "ModuleNotFoundError",
     "evalue": "No module named 'numpy'",
     "output_type": "error",
     "traceback": [
      "\u001b[1;31m---------------------------------------------------------------------------\u001b[0m",
      "\u001b[1;31mModuleNotFoundError\u001b[0m                       Traceback (most recent call last)",
      "File \u001b[1;32mEpeteys\\ECE435_Project\\test.py:1\u001b[0m\n\u001b[1;32m----> 1\u001b[0m \u001b[39mimport\u001b[39;00m \u001b[39mnumpy\u001b[39;00m \u001b[39mas\u001b[39;00m \u001b[39mnp\u001b[39;00m\n\u001b[0;32m      2\u001b[0m \u001b[39mimport\u001b[39;00m \u001b[39mtensorflow\u001b[39;00m \u001b[39mas\u001b[39;00m \u001b[39mtf\u001b[39;00m\n\u001b[0;32m      3\u001b[0m \u001b[39mimport\u001b[39;00m \u001b[39mkeras\u001b[39;00m\n",
      "\u001b[1;31mModuleNotFoundError\u001b[0m: No module named 'numpy'"
     ]
    }
   ],
   "source": [
    "import numpy as np\n",
    "import tensorflow as tf\n",
    "import keras\n",
    "from keras import layers\n",
    "import scipy\n",
    "import matplotlib.pyplot as plt\n",
    "import cv2\n",
    "from tensorflow.contrib.layers import flatten\n",
    "from astropy.convolution import Tophat2DKernel\n",
    "\n",
    "\n",
    "# Getting the kernel to be used in Top-Hat\n",
    "filterSize =(3, 3)\n",
    "kernel = cv2.getStructuringElement(cv2.MORPH_RECT, filterSize)\n",
    "\n",
    "# Reading the image named 'input.jpg'\n",
    "input_image = cv2.imread(\"Project Data/2_image.tiff\")\n",
    "input_image = cv2.cvtColor(input_image, cv2.COLOR_BGR2GRAY)\n",
    "\n",
    "# Applying the Top-Hat operation\n",
    "tophat_img = cv2.morphologyEx(input_image, cv2.MORPH_TOPHAT, kernel)\n",
    "\n",
    "cv2.imshow(\"original\", input_image)\n",
    "cv2.imshow(\"tophat\", tophat_img)\n",
    "cv2.waitKey(5000)\n",
    "\n",
    "\n",
    "# Defining the kernel to be used in Top-Hat\n",
    "filterSize =(3, 3)\n",
    "kernel = cv2.getStructuringElement(cv2.MORPH_RECT, filterSize)\n",
    "\n",
    "# Reading the image named 'input.jpg'\n",
    "input_image = cv2.imread(\"testing.jpg\")\n",
    "input_image = cv2.cvtColor(input_image, cv2.COLOR_BGR2GRAY)\n",
    "\n",
    "# Applying the Black-Hat operation\n",
    "tophat_img = cv2.morphologyEx(input_image, cv2.MORPH_BLACKHAT, kernel)\n",
    "\n",
    "cv2.imshow(\"original\", input_image)\n",
    "cv2.imshow(\"tophat\", tophat_img)\n",
    "cv2.waitKey(5000)"
   ]
  },
  {
   "cell_type": "markdown",
   "metadata": {
    "isInteractiveWindowMessageCell": true
   },
   "source": [
    "Restarted Python 3.11.8"
   ]
  },
  {
   "cell_type": "code",
   "execution_count": 1,
   "metadata": {},
   "outputs": [
    {
     "ename": "ModuleNotFoundError",
     "evalue": "No module named 'tensorflow'",
     "output_type": "error",
     "traceback": [
      "\u001b[1;31m---------------------------------------------------------------------------\u001b[0m",
      "\u001b[1;31mModuleNotFoundError\u001b[0m                       Traceback (most recent call last)",
      "File \u001b[1;32mEpeteys\\ECE435_Project\\test.py:2\u001b[0m\n\u001b[0;32m      1\u001b[0m \u001b[39mimport\u001b[39;00m \u001b[39mnumpy\u001b[39;00m \u001b[39mas\u001b[39;00m \u001b[39mnp\u001b[39;00m\n\u001b[1;32m----> 2\u001b[0m \u001b[39mimport\u001b[39;00m \u001b[39mtensorflow\u001b[39;00m \u001b[39mas\u001b[39;00m \u001b[39mtf\u001b[39;00m\n\u001b[0;32m      3\u001b[0m \u001b[39mimport\u001b[39;00m \u001b[39mkeras\u001b[39;00m\n\u001b[0;32m      4\u001b[0m \u001b[39mfrom\u001b[39;00m \u001b[39mkeras\u001b[39;00m \u001b[39mimport\u001b[39;00m layers\n",
      "\u001b[1;31mModuleNotFoundError\u001b[0m: No module named 'tensorflow'"
     ]
    }
   ],
   "source": [
    "import numpy as np\n",
    "import tensorflow as tf\n",
    "import keras\n",
    "from keras import layers\n",
    "import scipy\n",
    "import matplotlib.pyplot as plt\n",
    "import cv2\n",
    "from tensorflow.contrib.layers import flatten\n",
    "from astropy.convolution import Tophat2DKernel\n",
    "\n",
    "\n",
    "# Getting the kernel to be used in Top-Hat\n",
    "filterSize =(3, 3)\n",
    "kernel = cv2.getStructuringElement(cv2.MORPH_RECT, filterSize)\n",
    "\n",
    "# Reading the image named 'input.jpg'\n",
    "input_image = cv2.imread(\"Project Data/2_image.tiff\")\n",
    "input_image = cv2.cvtColor(input_image, cv2.COLOR_BGR2GRAY)\n",
    "\n",
    "# Applying the Top-Hat operation\n",
    "tophat_img = cv2.morphologyEx(input_image, cv2.MORPH_TOPHAT, kernel)\n",
    "\n",
    "cv2.imshow(\"original\", input_image)\n",
    "cv2.imshow(\"tophat\", tophat_img)\n",
    "cv2.waitKey(5000)\n",
    "\n",
    "\n",
    "# Defining the kernel to be used in Top-Hat\n",
    "filterSize =(3, 3)\n",
    "kernel = cv2.getStructuringElement(cv2.MORPH_RECT, filterSize)\n",
    "\n",
    "# Reading the image named 'input.jpg'\n",
    "input_image = cv2.imread(\"testing.jpg\")\n",
    "input_image = cv2.cvtColor(input_image, cv2.COLOR_BGR2GRAY)\n",
    "\n",
    "# Applying the Black-Hat operation\n",
    "tophat_img = cv2.morphologyEx(input_image, cv2.MORPH_BLACKHAT, kernel)\n",
    "\n",
    "cv2.imshow(\"original\", input_image)\n",
    "cv2.imshow(\"tophat\", tophat_img)\n",
    "cv2.waitKey(5000)"
   ]
  },
  {
   "cell_type": "code",
   "execution_count": 2,
   "metadata": {},
   "outputs": [
    {
     "ename": "ModuleNotFoundError",
     "evalue": "No module named 'tensorflow.python'",
     "output_type": "error",
     "traceback": [
      "\u001b[1;31m---------------------------------------------------------------------------\u001b[0m",
      "\u001b[1;31mModuleNotFoundError\u001b[0m                       Traceback (most recent call last)",
      "File \u001b[1;32mEpeteys\\ECE435_Project\\test.py:2\u001b[0m\n\u001b[0;32m      1\u001b[0m \u001b[39mimport\u001b[39;00m \u001b[39mnumpy\u001b[39;00m \u001b[39mas\u001b[39;00m \u001b[39mnp\u001b[39;00m\n\u001b[1;32m----> 2\u001b[0m \u001b[39mimport\u001b[39;00m \u001b[39mtensorflow\u001b[39;00m \u001b[39mas\u001b[39;00m \u001b[39mtf\u001b[39;00m\n\u001b[0;32m      3\u001b[0m \u001b[39mimport\u001b[39;00m \u001b[39mkeras\u001b[39;00m\n\u001b[0;32m      4\u001b[0m \u001b[39mfrom\u001b[39;00m \u001b[39mkeras\u001b[39;00m \u001b[39mimport\u001b[39;00m layers\n",
      "File \u001b[1;32m~\\AppData\\Local\\Packages\\PythonSoftwareFoundation.Python.3.11_qbz5n2kfra8p0\\LocalCache\\local-packages\\Python311\\site-packages\\tensorflow\\__init__.py:39\u001b[0m\n\u001b[0;32m     36\u001b[0m \u001b[39mimport\u001b[39;00m \u001b[39msys\u001b[39;00m \u001b[39mas\u001b[39;00m \u001b[39m_sys\u001b[39;00m\n\u001b[0;32m     37\u001b[0m \u001b[39mimport\u001b[39;00m \u001b[39mtyping\u001b[39;00m \u001b[39mas\u001b[39;00m \u001b[39m_typing\u001b[39;00m\n\u001b[1;32m---> 39\u001b[0m \u001b[39mfrom\u001b[39;00m \u001b[39mtensorflow\u001b[39;00m\u001b[39m.\u001b[39;00m\u001b[39mpython\u001b[39;00m\u001b[39m.\u001b[39;00m\u001b[39mtools\u001b[39;00m \u001b[39mimport\u001b[39;00m module_util \u001b[39mas\u001b[39;00m _module_util\n\u001b[0;32m     40\u001b[0m \u001b[39mfrom\u001b[39;00m \u001b[39mtensorflow\u001b[39;00m\u001b[39m.\u001b[39;00m\u001b[39mpython\u001b[39;00m\u001b[39m.\u001b[39;00m\u001b[39mutil\u001b[39;00m\u001b[39m.\u001b[39;00m\u001b[39mlazy_loader\u001b[39;00m \u001b[39mimport\u001b[39;00m LazyLoader \u001b[39mas\u001b[39;00m _LazyLoader\n\u001b[0;32m     41\u001b[0m \u001b[39mfrom\u001b[39;00m \u001b[39mtensorflow\u001b[39;00m\u001b[39m.\u001b[39;00m\u001b[39mpython\u001b[39;00m\u001b[39m.\u001b[39;00m\u001b[39mutil\u001b[39;00m\u001b[39m.\u001b[39;00m\u001b[39mlazy_loader\u001b[39;00m \u001b[39mimport\u001b[39;00m KerasLazyLoader \u001b[39mas\u001b[39;00m _KerasLazyLoader\n",
      "\u001b[1;31mModuleNotFoundError\u001b[0m: No module named 'tensorflow.python'"
     ]
    }
   ],
   "source": [
    "import numpy as np\n",
    "import tensorflow as tf\n",
    "import keras\n",
    "from keras import layers\n",
    "import scipy\n",
    "import matplotlib.pyplot as plt\n",
    "import cv2\n",
    "from tensorflow.contrib.layers import flatten\n",
    "from astropy.convolution import Tophat2DKernel\n",
    "\n",
    "\n",
    "# Getting the kernel to be used in Top-Hat\n",
    "filterSize =(3, 3)\n",
    "kernel = cv2.getStructuringElement(cv2.MORPH_RECT, filterSize)\n",
    "\n",
    "# Reading the image named 'input.jpg'\n",
    "input_image = cv2.imread(\"Project Data/2_image.tiff\")\n",
    "input_image = cv2.cvtColor(input_image, cv2.COLOR_BGR2GRAY)\n",
    "\n",
    "# Applying the Top-Hat operation\n",
    "tophat_img = cv2.morphologyEx(input_image, cv2.MORPH_TOPHAT, kernel)\n",
    "\n",
    "cv2.imshow(\"original\", input_image)\n",
    "cv2.imshow(\"tophat\", tophat_img)\n",
    "cv2.waitKey(5000)\n",
    "\n",
    "\n",
    "# Defining the kernel to be used in Top-Hat\n",
    "filterSize =(3, 3)\n",
    "kernel = cv2.getStructuringElement(cv2.MORPH_RECT, filterSize)\n",
    "\n",
    "# Reading the image named 'input.jpg'\n",
    "input_image = cv2.imread(\"testing.jpg\")\n",
    "input_image = cv2.cvtColor(input_image, cv2.COLOR_BGR2GRAY)\n",
    "\n",
    "# Applying the Black-Hat operation\n",
    "tophat_img = cv2.morphologyEx(input_image, cv2.MORPH_BLACKHAT, kernel)\n",
    "\n",
    "cv2.imshow(\"original\", input_image)\n",
    "cv2.imshow(\"tophat\", tophat_img)\n",
    "cv2.waitKey(5000)"
   ]
  },
  {
   "cell_type": "code",
   "execution_count": 3,
   "metadata": {},
   "outputs": [
    {
     "ename": "ModuleNotFoundError",
     "evalue": "No module named 'tensorflow.python'",
     "output_type": "error",
     "traceback": [
      "\u001b[1;31m---------------------------------------------------------------------------\u001b[0m",
      "\u001b[1;31mModuleNotFoundError\u001b[0m                       Traceback (most recent call last)",
      "File \u001b[1;32mEpeteys\\ECE435_Project\\test.py:2\u001b[0m\n\u001b[0;32m      1\u001b[0m \u001b[39mimport\u001b[39;00m \u001b[39mnumpy\u001b[39;00m \u001b[39mas\u001b[39;00m \u001b[39mnp\u001b[39;00m\n\u001b[1;32m----> 2\u001b[0m \u001b[39mimport\u001b[39;00m \u001b[39mtensorflow\u001b[39;00m \u001b[39mas\u001b[39;00m \u001b[39mtf\u001b[39;00m\n\u001b[0;32m      3\u001b[0m \u001b[39mimport\u001b[39;00m \u001b[39mkeras\u001b[39;00m\n\u001b[0;32m      4\u001b[0m \u001b[39mfrom\u001b[39;00m \u001b[39mkeras\u001b[39;00m \u001b[39mimport\u001b[39;00m layers\n",
      "File \u001b[1;32m~\\AppData\\Local\\Packages\\PythonSoftwareFoundation.Python.3.11_qbz5n2kfra8p0\\LocalCache\\local-packages\\Python311\\site-packages\\tensorflow\\__init__.py:39\u001b[0m\n\u001b[0;32m     36\u001b[0m \u001b[39mimport\u001b[39;00m \u001b[39msys\u001b[39;00m \u001b[39mas\u001b[39;00m \u001b[39m_sys\u001b[39;00m\n\u001b[0;32m     37\u001b[0m \u001b[39mimport\u001b[39;00m \u001b[39mtyping\u001b[39;00m \u001b[39mas\u001b[39;00m \u001b[39m_typing\u001b[39;00m\n\u001b[1;32m---> 39\u001b[0m \u001b[39mfrom\u001b[39;00m \u001b[39mtensorflow\u001b[39;00m\u001b[39m.\u001b[39;00m\u001b[39mpython\u001b[39;00m\u001b[39m.\u001b[39;00m\u001b[39mtools\u001b[39;00m \u001b[39mimport\u001b[39;00m module_util \u001b[39mas\u001b[39;00m _module_util\n\u001b[0;32m     40\u001b[0m \u001b[39mfrom\u001b[39;00m \u001b[39mtensorflow\u001b[39;00m\u001b[39m.\u001b[39;00m\u001b[39mpython\u001b[39;00m\u001b[39m.\u001b[39;00m\u001b[39mutil\u001b[39;00m\u001b[39m.\u001b[39;00m\u001b[39mlazy_loader\u001b[39;00m \u001b[39mimport\u001b[39;00m LazyLoader \u001b[39mas\u001b[39;00m _LazyLoader\n\u001b[0;32m     41\u001b[0m \u001b[39mfrom\u001b[39;00m \u001b[39mtensorflow\u001b[39;00m\u001b[39m.\u001b[39;00m\u001b[39mpython\u001b[39;00m\u001b[39m.\u001b[39;00m\u001b[39mutil\u001b[39;00m\u001b[39m.\u001b[39;00m\u001b[39mlazy_loader\u001b[39;00m \u001b[39mimport\u001b[39;00m KerasLazyLoader \u001b[39mas\u001b[39;00m _KerasLazyLoader\n",
      "\u001b[1;31mModuleNotFoundError\u001b[0m: No module named 'tensorflow.python'"
     ]
    }
   ],
   "source": [
    "import numpy as np\n",
    "import tensorflow as tf\n",
    "import keras\n",
    "from keras import layers\n",
    "import scipy\n",
    "import matplotlib.pyplot as plt\n",
    "import cv2\n",
    "from tensorflow.contrib.layers import flatten\n",
    "from astropy.convolution import Tophat2DKernel\n",
    "\n",
    "\n",
    "# Getting the kernel to be used in Top-Hat\n",
    "filterSize =(3, 3)\n",
    "kernel = cv2.getStructuringElement(cv2.MORPH_RECT, filterSize)\n",
    "\n",
    "# Reading the image named 'input.jpg'\n",
    "input_image = cv2.imread(\"Project Data/2_image.tiff\")\n",
    "input_image = cv2.cvtColor(input_image, cv2.COLOR_BGR2GRAY)\n",
    "\n",
    "# Applying the Top-Hat operation\n",
    "tophat_img = cv2.morphologyEx(input_image, cv2.MORPH_TOPHAT, kernel)\n",
    "\n",
    "cv2.imshow(\"original\", input_image)\n",
    "cv2.imshow(\"tophat\", tophat_img)\n",
    "cv2.waitKey(5000)\n",
    "\n",
    "\n",
    "# Defining the kernel to be used in Top-Hat\n",
    "filterSize =(3, 3)\n",
    "kernel = cv2.getStructuringElement(cv2.MORPH_RECT, filterSize)\n",
    "\n",
    "# Reading the image named 'input.jpg'\n",
    "input_image = cv2.imread(\"testing.jpg\")\n",
    "input_image = cv2.cvtColor(input_image, cv2.COLOR_BGR2GRAY)\n",
    "\n",
    "# Applying the Black-Hat operation\n",
    "tophat_img = cv2.morphologyEx(input_image, cv2.MORPH_BLACKHAT, kernel)\n",
    "\n",
    "cv2.imshow(\"original\", input_image)\n",
    "cv2.imshow(\"tophat\", tophat_img)\n",
    "cv2.waitKey(5000)"
   ]
  },
  {
   "cell_type": "markdown",
   "metadata": {
    "isInteractiveWindowMessageCell": true
   },
   "source": [
    "Connected to Python 3.11.8"
   ]
  },
  {
   "cell_type": "code",
   "execution_count": 1,
   "metadata": {},
   "outputs": [
    {
     "name": "stdout",
     "output_type": "stream",
     "text": [
      "WARNING:tensorflow:From C:\\Users\\jenna\\AppData\\Local\\Packages\\PythonSoftwareFoundation.Python.3.11_qbz5n2kfra8p0\\LocalCache\\local-packages\\Python311\\site-packages\\keras\\src\\losses.py:2976: The name tf.losses.sparse_softmax_cross_entropy is deprecated. Please use tf.compat.v1.losses.sparse_softmax_cross_entropy instead.\n",
      "\n"
     ]
    },
    {
     "ename": "ModuleNotFoundError",
     "evalue": "No module named 'scipy'",
     "output_type": "error",
     "traceback": [
      "\u001b[1;31m---------------------------------------------------------------------------\u001b[0m",
      "\u001b[1;31mModuleNotFoundError\u001b[0m                       Traceback (most recent call last)",
      "File \u001b[1;32mEpeteys\\ECE435_Project\\test.py:5\u001b[0m\n\u001b[0;32m      3\u001b[0m \u001b[39mimport\u001b[39;00m \u001b[39mkeras\u001b[39;00m\n\u001b[0;32m      4\u001b[0m \u001b[39mfrom\u001b[39;00m \u001b[39mkeras\u001b[39;00m \u001b[39mimport\u001b[39;00m layers\n\u001b[1;32m----> 5\u001b[0m \u001b[39mimport\u001b[39;00m \u001b[39mscipy\u001b[39;00m\n\u001b[0;32m      6\u001b[0m \u001b[39mimport\u001b[39;00m \u001b[39mmatplotlib\u001b[39;00m\u001b[39m.\u001b[39;00m\u001b[39mpyplot\u001b[39;00m \u001b[39mas\u001b[39;00m \u001b[39mplt\u001b[39;00m\n\u001b[0;32m      7\u001b[0m \u001b[39mimport\u001b[39;00m \u001b[39mcv2\u001b[39;00m\n",
      "\u001b[1;31mModuleNotFoundError\u001b[0m: No module named 'scipy'"
     ]
    }
   ],
   "source": [
    "import numpy as np\n",
    "import tensorflow as tf\n",
    "import keras\n",
    "from keras import layers\n",
    "import scipy\n",
    "import matplotlib.pyplot as plt\n",
    "import cv2\n",
    "from tensorflow.contrib.layers import flatten\n",
    "from astropy.convolution import Tophat2DKernel\n",
    "\n",
    "\n",
    "# Getting the kernel to be used in Top-Hat\n",
    "filterSize =(3, 3)\n",
    "kernel = cv2.getStructuringElement(cv2.MORPH_RECT, filterSize)\n",
    "\n",
    "# Reading the image named 'input.jpg'\n",
    "input_image = cv2.imread(\"Project Data/2_image.tiff\")\n",
    "input_image = cv2.cvtColor(input_image, cv2.COLOR_BGR2GRAY)\n",
    "\n",
    "# Applying the Top-Hat operation\n",
    "tophat_img = cv2.morphologyEx(input_image, cv2.MORPH_TOPHAT, kernel)\n",
    "\n",
    "cv2.imshow(\"original\", input_image)\n",
    "cv2.imshow(\"tophat\", tophat_img)\n",
    "cv2.waitKey(5000)\n",
    "\n",
    "\n",
    "# Defining the kernel to be used in Top-Hat\n",
    "filterSize =(3, 3)\n",
    "kernel = cv2.getStructuringElement(cv2.MORPH_RECT, filterSize)\n",
    "\n",
    "# Reading the image named 'input.jpg'\n",
    "input_image = cv2.imread(\"testing.jpg\")\n",
    "input_image = cv2.cvtColor(input_image, cv2.COLOR_BGR2GRAY)\n",
    "\n",
    "# Applying the Black-Hat operation\n",
    "tophat_img = cv2.morphologyEx(input_image, cv2.MORPH_BLACKHAT, kernel)\n",
    "\n",
    "cv2.imshow(\"original\", input_image)\n",
    "cv2.imshow(\"tophat\", tophat_img)\n",
    "cv2.waitKey(5000)"
   ]
  }
 ],
 "metadata": {
  "kernelspec": {
   "display_name": "Python 3",
   "language": "python",
   "name": "python3"
  },
  "language_info": {
   "name": "python",
   "version": "3.11.8"
  }
 },
 "nbformat": 4,
 "nbformat_minor": 2
}
